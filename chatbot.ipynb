{
 "cells": [
  {
   "cell_type": "markdown",
   "metadata": {},
   "source": [
    "# Positive Chatbot"
   ]
  },
  {
   "cell_type": "code",
   "execution_count": 4,
   "metadata": {},
   "outputs": [],
   "source": [
    "import numpy as np\n",
    "import tensorflow as tf\n",
    "\n",
    "Tokenizer = tf.keras.preprocessing.text.Tokenizer\n",
    "pad_sequences = tf.keras.preprocessing.sequence.pad_sequences\n",
    "Sequential = tf.keras.models.Sequential\n",
    "Embedding = tf.keras.layers.Embedding\n",
    "SimpleRNN = tf.keras.layers.SimpleRNN\n",
    "Dense = tf.keras.layers.Dense\n",
    "LSTM = tf.keras.layers.LSTM\n",
    "Dropout = tf.keras.layers.Dropout"
   ]
  },
  {
   "cell_type": "code",
   "execution_count": 5,
   "metadata": {},
   "outputs": [
    {
     "ename": "ModuleNotFoundError",
     "evalue": "No module named 'data'",
     "output_type": "error",
     "traceback": [
      "\u001b[1;31m---------------------------------------------------------------------------\u001b[0m",
      "\u001b[1;31mModuleNotFoundError\u001b[0m                       Traceback (most recent call last)",
      "Cell \u001b[1;32mIn[5], line 3\u001b[0m\n\u001b[0;32m      1\u001b[0m \u001b[38;5;66;03m# Load your text data\u001b[39;00m\n\u001b[0;32m      2\u001b[0m \u001b[38;5;66;03m# Here I'm simply loading a relative file which contains the array of data (data.py)\u001b[39;00m\n\u001b[1;32m----> 3\u001b[0m \u001b[38;5;28;01mfrom\u001b[39;00m \u001b[38;5;21;01mdata\u001b[39;00m \u001b[38;5;28;01mimport\u001b[39;00m text_data_arr\n\u001b[0;32m      5\u001b[0m \u001b[38;5;66;03m# Tokenize the text\u001b[39;00m\n\u001b[0;32m      6\u001b[0m tokenizer \u001b[38;5;241m=\u001b[39m Tokenizer(char_level\u001b[38;5;241m=\u001b[39m\u001b[38;5;28;01mTrue\u001b[39;00m, lower\u001b[38;5;241m=\u001b[39m\u001b[38;5;28;01mTrue\u001b[39;00m)\n",
      "\u001b[1;31mModuleNotFoundError\u001b[0m: No module named 'data'"
     ]
    }
   ],
   "source": [
    "\n",
    "# Load your text data\n",
    "# Here I'm simply loading a relative file which contains the array of data (data.py)\n",
    "from data import text_data_arr\n",
    "\n",
    "# Tokenize the text\n",
    "tokenizer = Tokenizer(char_level=True, lower=True)\n",
    "tokenizer.fit_on_texts(text_data_arr)\n",
    "\n",
    "# Convert text to sequences\n",
    "sequences = tokenizer.texts_to_sequences(text_data_arr)[0]\n",
    "\n",
    "# Prepare input and target sequences\n",
    "input_sequences = []\n",
    "output_sequences = []\n",
    "\n",
    "sequence_length = 100\n",
    "for i in range(len(sequences) - sequence_length):\n",
    "    input_sequences.append(sequences[i:i + sequence_length])\n",
    "    output_sequences.append(sequences[i + sequence_length])\n",
    "\n",
    "input_sequences = np.array(input_sequences)\n",
    "output_sequences = np.array(output_sequences)\n",
    "\n",
    "vocab_size = len(tokenizer.word_index) + 1\n"
   ]
  },
  {
   "cell_type": "code",
   "execution_count": null,
   "metadata": {},
   "outputs": [],
   "source": [
    "# Define the model architecture:\n",
    "model = Sequential([\n",
    "    Embedding(vocab_size, 32, input_length=sequence_length),\n",
    "    LSTM(128, return_sequences=True, dropout=0.2, recurrent_dropout=0.2),\n",
    "    LSTM(128, dropout=0.2, recurrent_dropout=0.2),\n",
    "    Dense(vocab_size, activation=\"softmax\"),\n",
    "])\n",
    "\n",
    "model.compile(loss=\"sparse_categorical_crossentropy\", optimizer=\"adam\", metrics=[\"accuracy\"])\n",
    "model.summary()\n",
    "\n"
   ]
  },
  {
   "cell_type": "code",
   "execution_count": null,
   "metadata": {},
   "outputs": [],
   "source": [
    "# Train the model\n",
    "epochs = 100  # Increase the number of epochs to give the model more time to learn\n",
    "batch_size = 32\n",
    "model.fit(input_sequences, output_sequences, epochs=epochs, batch_size=batch_size)\n",
    "\n"
   ]
  },
  {
   "cell_type": "code",
   "execution_count": null,
   "metadata": {},
   "outputs": [],
   "source": [
    "# Evaluate the model and generate text:\n",
    "def generate_text(seed_text, model, tokenizer, sequence_length, num_chars_to_generate):\n",
    "    generated_text = seed_text\n",
    "\n",
    "    for _ in range(num_chars_to_generate):\n",
    "        token_list = tokenizer.texts_to_sequences([generated_text])\n",
    "        token_list = pad_sequences(token_list, maxlen=sequence_length, padding=\"pre\")\n",
    "        predicted_probs = model.predict(token_list, verbose=0)\n",
    "        predicted_token = np.argmax(predicted_probs, axis=-1)[0]  # Get the index of the predicted token\n",
    "\n",
    "        output_word = \"\"\n",
    "        for word, index in tokenizer.word_index.items():\n",
    "            if index == predicted_token:\n",
    "                output_word = word\n",
    "                break\n",
    "\n",
    "        generated_text += output_word\n",
    "\n",
    "    return generated_text\n",
    "\n",
    "seed_text = \"John: How are you, Mike?\"\n",
    "\n",
    "generated_text = generate_text(seed_text, model, tokenizer, sequence_length, num_chars_to_generate=800)\n",
    "print(generated_text)"
   ]
  }
 ],
 "metadata": {
  "kernelspec": {
   "display_name": "Python 3",
   "language": "python",
   "name": "python3"
  },
  "language_info": {
   "codemirror_mode": {
    "name": "ipython",
    "version": 3
   },
   "file_extension": ".py",
   "mimetype": "text/x-python",
   "name": "python",
   "nbconvert_exporter": "python",
   "pygments_lexer": "ipython3",
   "version": "3.11.0"
  }
 },
 "nbformat": 4,
 "nbformat_minor": 2
}
